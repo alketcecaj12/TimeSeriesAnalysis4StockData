{
 "cells": [
  {
   "cell_type": "code",
   "execution_count": 6,
   "id": "7232a217-f8f0-488b-88c1-4f7fa1271418",
   "metadata": {},
   "outputs": [],
   "source": [
    "import pandas as pd\n",
    "import yfinance as yf"
   ]
  },
  {
   "cell_type": "code",
   "execution_count": 7,
   "id": "e9107991-4d69-4064-a15c-d602139b3b86",
   "metadata": {},
   "outputs": [],
   "source": [
    "stocks = [\"GOOG\", \"AAPL\", \"NVO\", \"CPRX\", \"CTKB\", \"EVT\", \"SNW\"]"
   ]
  },
  {
   "cell_type": "code",
   "execution_count": 8,
   "id": "2676b6af-24eb-4699-8a31-653c0961ba8f",
   "metadata": {},
   "outputs": [
    {
     "ename": "TypeError",
     "evalue": "'list' object is not callable",
     "output_type": "error",
     "traceback": [
      "\u001b[0;31m---------------------------------------------------------------------------\u001b[0m",
      "\u001b[0;31mTypeError\u001b[0m                                 Traceback (most recent call last)",
      "Cell \u001b[0;32mIn[8], line 1\u001b[0m\n\u001b[0;32m----> 1\u001b[0m tickers \u001b[38;5;241m=\u001b[39m \u001b[43myf\u001b[49m\u001b[38;5;241;43m.\u001b[39;49m\u001b[43mTickers\u001b[49m\u001b[43m(\u001b[49m\u001b[43mstocks\u001b[49m\u001b[43m)\u001b[49m\n",
      "\u001b[0;31mTypeError\u001b[0m: 'list' object is not callable"
     ]
    }
   ],
   "source": [
    "tickers = yf.Tickers(stocks)"
   ]
  },
  {
   "cell_type": "code",
   "execution_count": null,
   "id": "308e5455-4e15-4aec-bdb8-f59d92095de1",
   "metadata": {},
   "outputs": [],
   "source": [
    "yf.history()"
   ]
  },
  {
   "cell_type": "code",
   "execution_count": null,
   "id": "38ec47ca-7ba7-4f87-961a-a9a7a756dfda",
   "metadata": {},
   "outputs": [],
   "source": []
  },
  {
   "cell_type": "code",
   "execution_count": null,
   "id": "3e3fe85b-d703-4fc7-9570-31e17a84f3a4",
   "metadata": {},
   "outputs": [],
   "source": []
  },
  {
   "cell_type": "code",
   "execution_count": null,
   "id": "ebff3460-eed0-4ae1-9ae8-b0fe4f7e3c88",
   "metadata": {},
   "outputs": [],
   "source": []
  },
  {
   "cell_type": "code",
   "execution_count": null,
   "id": "0331d84b-618c-4449-b512-dcdce10df38f",
   "metadata": {},
   "outputs": [],
   "source": []
  },
  {
   "cell_type": "code",
   "execution_count": null,
   "id": "8a378470-96c9-48e8-81e5-78700186df80",
   "metadata": {},
   "outputs": [],
   "source": []
  }
 ],
 "metadata": {
  "kernelspec": {
   "display_name": "Python 3 (ipykernel)",
   "language": "python",
   "name": "python3"
  },
  "language_info": {
   "codemirror_mode": {
    "name": "ipython",
    "version": 3
   },
   "file_extension": ".py",
   "mimetype": "text/x-python",
   "name": "python",
   "nbconvert_exporter": "python",
   "pygments_lexer": "ipython3",
   "version": "3.10.13"
  }
 },
 "nbformat": 4,
 "nbformat_minor": 5
}
